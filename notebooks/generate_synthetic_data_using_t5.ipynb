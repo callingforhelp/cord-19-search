{
 "nbformat": 4,
 "nbformat_minor": 0,
 "metadata": {
  "colab": {
   "provenance": []
  },
  "kernelspec": {
   "name": "python3",
   "display_name": "Python 3"
  },
  "language_info": {
   "name": "python"
  },
  "accelerator": "GPU",
  "gpuClass": "premium"
 },
 "cells": [
  {
   "cell_type": "code",
   "execution_count": null,
   "outputs": [],
   "source": [
    "!pip install transformers sentencepiece"
   ],
   "metadata": {
    "collapsed": false
   }
  },
  {
   "cell_type": "code",
   "source": [
    "from transformers import T5Tokenizer, T5ForConditionalGeneration\n",
    "\n",
    "tokenizer = T5Tokenizer.from_pretrained(\"google/flan-t5-xl\")\n",
    "model = T5ForConditionalGeneration.from_pretrained(\"google/flan-t5-xl\")"
   ],
   "metadata": {
    "id": "NHqjlbOptfBd"
   },
   "execution_count": null,
   "outputs": []
  },
  {
   "cell_type": "code",
   "source": [
    "import torch\n",
    "device = torch.device('cuda' if torch.cuda.is_available() else 'cpu')\n",
    "model = model.to(device)"
   ],
   "metadata": {
    "id": "5grcHbafu_qD"
   },
   "execution_count": null,
   "outputs": []
  },
  {
   "cell_type": "code",
   "source": [
    "prompt = \"\"\"\n",
    "These are examples of queries with sample relevant documents for each query. \n",
    "The query must be specific and detailed.\n",
    "\n",
    "Example 1:\n",
    "document: Monophyletic Relationship between Severe Acute Respiratory Syndrome Coronavirus and Group 2 Coronaviruses Although primary genomic analysis has revealed that severe acute respiratory syndrome coronavirus (SARS CoV) is a new type of coronavirus, the different protein trees published in previous reports have provided no conclusive evidence indicating the phylogenetic position of SARS CoV. To clarify the phylogenetic relationship between SARS CoV and other coronaviruses, we compiled a large data set composed of 7 concatenated protein sequences and performed comprehensive analyses, using the maximum-likelihood, Bayesian-inference, and maximum-parsimony methods. All resulting phylogenetic trees displayed an identical topology and supported the hypothesis that the relationship between SARS CoV and group 2 CoVs is monophyletic. Relationships among all major groups were well resolved and were supported by all statistical analyses.\n",
    "query: what is the origin of COVID-19\n",
    " \n",
    "Example 2:\n",
    "document: Association between climate variables and global transmission oF SARS-CoV-2 Abstract In this study, we aimed at analyzing the associations between transmission of and deaths caused by SARS-CoV-2 and meteorological variables, such as average temperature, minimum temperature, maximum temperature, and precipitation. Two outcome measures were considered, with the first aiming to study SARS-CoV-2 infections and the second aiming to study COVID-19 mortality. Daily data as well as data on SARS-CoV-2 infections and COVID-19 mortality obtained between December 1, 2019 and March 28, 2020 were collected from weather stations around the world. The country's population density and time of exposure to the disease were used as control variables. Finally, a month dummy variable was added. Daily data by country were analyzed using the panel data model. An increase in the average daily temperature by one degree Fahrenheit reduced the number of cases by approximately 6.4 cases/day. There was a negative correlation between the average temperature per country and the number of cases of SARS-CoV-2 infections. This association remained strong even with the incorporation of additional variables and controls (maximum temperature, average temperature, minimum temperature, and precipitation) and fixed country effects. There was a positive correlation between precipitation and SARS-CoV-2 transmission. Countries with higher rainfall measurements showed an increase in disease transmission. For each average inch/day, there was an increase of 56.01 cases/day. COVID-19 mortality showed no significant association with temperature.\n",
    "query: how does the coronavirus respond to changes in the weather\n",
    " \n",
    "Example 3:\n",
    "document: Cross-immunity between respiratory coronaviruses may limit COVID-19 fatalities Of the seven coronaviruses associated with disease in humans, SARS-CoV, MERS-CoV and SARS-CoV-2 cause considerable mortality but also share significant sequence homology, and potentially antigenic epitopes capable of inducing an immune response. The degree of similarity is such that perhaps prior exposure to one virus could confer partial immunity to another. Indeed, data suggests a considerable amount of cross-reactivity and recognition by the hosts immune response between different coronavirus infections. While the ongoing COVID-19 outbreak rapidly overwhelmed medical facilities of particularly Europe and North America, accounting for 78% of global deaths, only 8% of deaths have occurred in Asia where the outbreak originated. Interestingly, Asia and the Middle East have previously experienced multiple rounds of coronavirus infections, perhaps suggesting buildup of acquired immunity to the causative SARS-CoV-2 that underlies COVID-19. This article hypothesizes that a causative factor underlying such low morbidity in these regions is perhaps (at least in part) due to acquired immunity from multiple rounds of coronavirus infections and discusses the mechanisms and recent evidence to support such assertions. Further investigations of such phenomenon would allow us to examine strategies to confer protective immunity, perhaps aiding vaccine development.\n",
    "query: will SARS-CoV2 infected people develop immunity? Is cross protection possible?\n",
    " \n",
    "\n",
    "Example 4:\n",
    "document: The activity of the HIV-1 IRES is stimulated by oxidative stress and controlled by a negative regulatory element Initiation of translation of the full-length messenger RNA of HIV-1, which generates the viral structural proteins and enzymes, is cap-dependent but can also use an internal ribosome entry site (IRES) located in the 5′ untranslated region. Our aim was to define, through a mutational analysis, regions of HIV-1 IRES that are important for its activity. A dual-luciferase reporter construct where the Renilla luciferase (Rluc) translation is cap-dependent while the firefly luciferase (Fluc) translation depends on HIV-1 IRES was used. The Fluc/Rluc ratio was measured in lysates of Jurkat T cells transfected with the dual-luciferase plasmid bearing either the wild-type or a mutated IRES. Deletions or mutations in three regions decreased the IRES activity but deletion or mutations of a stem-loop preceding the primer binding site increased the IRES activity. The wild-type IRES activity, but not that of an IRES with a mutated stem-loop, was increased when cells were treated with agents that induce oxidative stress. Such stress is known to be caused by HIV-1 infection and we propose that this stem-loop is involved in a switch that stimulates the IRES activity in cells infected with HIV-1, supporting the suggestion that the IRES activity is up-regulated in the course of HIV-1 replication cycle.\n",
    "query:\n",
    "\n",
    "\"\"\""
   ],
   "metadata": {
    "id": "j-g581wzvw4b"
   },
   "execution_count": null,
   "outputs": []
  },
  {
   "cell_type": "code",
   "source": [
    "input_ids = tokenizer(prompt, return_tensors=\"pt\", max_length=1024, truncation=True).input_ids.to(device)\n",
    "\n",
    "outputs = model.generate(input_ids, max_length=32)\n",
    "print(tokenizer.decode(outputs[0], skip_special_tokens=True))"
   ],
   "metadata": {
    "colab": {
     "base_uri": "https://localhost:8080/"
    },
    "id": "d3pOD5hbvBeB",
    "outputId": "0d4bd3b2-b511-4888-91d8-78a4d288106c"
   },
   "execution_count": null,
   "outputs": [
    {
     "output_type": "stream",
     "name": "stdout",
     "text": [
      "query: what is the function of the internal ribosome entry site in hiv-1?\n"
     ]
    }
   ]
  },
  {
   "cell_type": "code",
   "source": [
    "!pip install ir_datasets"
   ],
   "metadata": {
    "id": "FKlxjzxegjBa"
   },
   "execution_count": null,
   "outputs": []
  },
  {
   "cell_type": "code",
   "source": [
    "import ir_datasets\n",
    "dataset = ir_datasets.load('beir/trec-covid')\n",
    "docstore = dataset.docs_store()\n",
    "qrels = []\n",
    "for qrel in dataset.qrels_iter():\n",
    "    if qrel.relevance==2:\n",
    "        qrels.append(qrel)\n",
    "queries = []\n",
    "for query in dataset.queries_iter():\n",
    "    queries.append(query)\n",
    "\n",
    "def generate_example(query, doc, id):\n",
    "    example = \"Example %s:\\ndocument: %s %s\\nquery: %s\\n\" % (id, doc.title, doc.text, query)\n",
    "    return example\n"
   ],
   "metadata": {
    "id": "FKZV0hh8gq8o"
   },
   "execution_count": null,
   "outputs": []
  },
  {
   "cell_type": "code",
   "source": [
    "prompt = \"\"\"These are examples of queries with a sample relevant document for each query. \n",
    "The query must be specific and detailed. \n",
    "\n",
    "\"\"\"\n",
    "for i,q in enumerate(queries[0:3]):\n",
    "    id = q.query_id\n",
    "    query_text = q.text\n",
    "    docs = []\n",
    "    for d in qrels:\n",
    "        if d.query_id == id:\n",
    "            doc = d.doc_id\n",
    "            doc = docstore.get(doc)\n",
    "            docs.append(doc)\n",
    "            if len(docs) == 1:\n",
    "                break\n",
    "    a = generate_example(query_text, docs[0],i+1)\n",
    "    prompt = prompt + a + \" \\n\""
   ],
   "metadata": {
    "id": "kMj_0ue4g3SF"
   },
   "execution_count": null,
   "outputs": []
  },
  {
   "cell_type": "code",
   "source": [
    "prompt_docs = []\n",
    "for d in dataset.docs_iter():\n",
    "    doc_text = \"%s %s\" % (d.title, d.text) \n",
    "    gen = \"Example 4:\\ndocument: %s\\nquery:\" % (doc_text) \n",
    "    doc_prompt = prompt + \"\\n\" + gen\n",
    "    prompt_docs.append((d.doc_id,doc_prompt))"
   ],
   "metadata": {
    "id": "y3EBPgwIg7R_"
   },
   "execution_count": null,
   "outputs": []
  },
  {
   "cell_type": "code",
   "source": [
    "print(prompt_docs[34][1])"
   ],
   "metadata": {
    "colab": {
     "base_uri": "https://localhost:8080/"
    },
    "id": "GdL_pjRxnBPP",
    "outputId": "a67d4d05-063e-413b-dc04-03107467e67e"
   },
   "execution_count": null,
   "outputs": [
    {
     "output_type": "stream",
     "name": "stdout",
     "text": [
      "These are examples of queries with a sample relevant document for each query. \n",
      "The query must be specific and detailed. \n",
      "\n",
      "Example 1:\n",
      "document: Monophyletic Relationship between Severe Acute Respiratory Syndrome Coronavirus and Group 2 Coronaviruses Although primary genomic analysis has revealed that severe acute respiratory syndrome coronavirus (SARS CoV) is a new type of coronavirus, the different protein trees published in previous reports have provided no conclusive evidence indicating the phylogenetic position of SARS CoV. To clarify the phylogenetic relationship between SARS CoV and other coronaviruses, we compiled a large data set composed of 7 concatenated protein sequences and performed comprehensive analyses, using the maximum-likelihood, Bayesian-inference, and maximum-parsimony methods. All resulting phylogenetic trees displayed an identical topology and supported the hypothesis that the relationship between SARS CoV and group 2 CoVs is monophyletic. Relationships among all major groups were well resolved and were supported by all statistical analyses.\n",
      "query: what is the origin of COVID-19\n",
      " \n",
      "Example 2:\n",
      "document: Association between climate variables and global transmission oF SARS-CoV-2 Abstract In this study, we aimed at analyzing the associations between transmission of and deaths caused by SARS-CoV-2 and meteorological variables, such as average temperature, minimum temperature, maximum temperature, and precipitation. Two outcome measures were considered, with the first aiming to study SARS-CoV-2 infections and the second aiming to study COVID-19 mortality. Daily data as well as data on SARS-CoV-2 infections and COVID-19 mortality obtained between December 1, 2019 and March 28, 2020 were collected from weather stations around the world. The country's population density and time of exposure to the disease were used as control variables. Finally, a month dummy variable was added. Daily data by country were analyzed using the panel data model. An increase in the average daily temperature by one degree Fahrenheit reduced the number of cases by approximately 6.4 cases/day. There was a negative correlation between the average temperature per country and the number of cases of SARS-CoV-2 infections. This association remained strong even with the incorporation of additional variables and controls (maximum temperature, average temperature, minimum temperature, and precipitation) and fixed country effects. There was a positive correlation between precipitation and SARS-CoV-2 transmission. Countries with higher rainfall measurements showed an increase in disease transmission. For each average inch/day, there was an increase of 56.01 cases/day. COVID-19 mortality showed no significant association with temperature.\n",
      "query: how does the coronavirus respond to changes in the weather\n",
      " \n",
      "Example 3:\n",
      "document: Cross-immunity between respiratory coronaviruses may limit COVID-19 fatalities Of the seven coronaviruses associated with disease in humans, SARS-CoV, MERS-CoV and SARS-CoV-2 cause considerable mortality but also share significant sequence homology, and potentially antigenic epitopes capable of inducing an immune response. The degree of similarity is such that perhaps prior exposure to one virus could confer partial immunity to another. Indeed, data suggests a considerable amount of cross-reactivity and recognition by the hosts immune response between different coronavirus infections. While the ongoing COVID-19 outbreak rapidly overwhelmed medical facilities of particularly Europe and North America, accounting for 78% of global deaths, only 8% of deaths have occurred in Asia where the outbreak originated. Interestingly, Asia and the Middle East have previously experienced multiple rounds of coronavirus infections, perhaps suggesting buildup of acquired immunity to the causative SARS-CoV-2 that underlies COVID-19. This article hypothesizes that a causative factor underlying such low morbidity in these regions is perhaps (at least in part) due to acquired immunity from multiple rounds of coronavirus infections and discusses the mechanisms and recent evidence to support such assertions. Further investigations of such phenomenon would allow us to examine strategies to confer protective immunity, perhaps aiding vaccine development.\n",
      "query: will SARS-CoV2 infected people develop immunity? Is cross protection possible?\n",
      " \n",
      "\n",
      "Example 4:\n",
      "document: The 'polysemous' codon--a codon with multiple amino acid assignment caused by dual specificity of tRNA identity. In some Candida species, the universal CUG leucine codon is translated as serine. However, in most cases, the serine tRNAs responsible for this non-universal decoding (tRNA(Ser)CAG) accept in vitro not only serine, but also, to some extent, leucine. Nucleotide replacement experiments indicated that m1G37 is critical for leucylation activity. This finding was supported by the fact that the tRNA(Ser)CAGs possessing the leucylation activity always have m1G37, whereas that of Candida cylindracea, which possesses no leucylation activity, has A37. Quantification of defined aminoacetylated tRNAs in cells demonstrated that 3% of the tRNA(Ser)CAGs possessing m1G37 were, in fact, charged with leucine in vivo. A genetic approach using an auxotroph mutant of C.maltosa possessing this type of tRNA(Ser)CAG also suggested that the URA3 gene inactivated due to the translation of CUG as serine was rescued by a slight incorporation of leucine into the polypeptide, which demonstrated that the tRNA charged with multiple amino acids could participate in the translation. These findings provide the first evidence that two distinct amino acids are assigned by a single codon, which occurs naturally in the translation process of certain Candida species. We term this novel type of codon a 'polysemous codon'.\n",
      "query:\n"
     ]
    }
   ]
  },
  {
   "cell_type": "markdown",
   "source": [],
   "metadata": {
    "id": "FG2Ose0olnpe"
   }
  },
  {
   "cell_type": "code",
   "source": [
    "fw = open(\"dump.csv\", \"w+\")"
   ],
   "metadata": {
    "id": "VeMUWxjfk2Nx"
   },
   "execution_count": null,
   "outputs": []
  },
  {
   "cell_type": "code",
   "source": [
    "from tqdm import tqdm  "
   ],
   "metadata": {
    "id": "8R0EzakEojjX"
   },
   "execution_count": null,
   "outputs": []
  },
  {
   "cell_type": "code",
   "source": [
    "sample = 1\n",
    "for doc_id, doc_prompt in tqdm(prompt_docs[2332:50000]):\n",
    "  input_ids = tokenizer(doc_prompt, return_tensors=\"pt\", max_length=1024, truncation=True).input_ids.to(device)\n",
    "  outputs = model.generate(input_ids, max_length=32)\n",
    "  query = tokenizer.decode(outputs[0], skip_special_tokens=True)\n",
    "  fw.write(\"%s\\t%s\\n\" % (doc_id,query))\n",
    "  fw.flush()\n",
    "  sample = sample +1"
   ],
   "metadata": {
    "colab": {
     "base_uri": "https://localhost:8080/"
    },
    "id": "L00vvuH_g8S5",
    "outputId": "e37d624c-ef47-43e7-b353-94eb15409b11"
   },
   "execution_count": null,
   "outputs": [
    {
     "output_type": "stream",
     "name": "stderr",
     "text": [
      "100%|██████████| 47668/47668 [12:43:21<00:00,  1.04it/s]\n"
     ]
    }
   ]
  },
  {
   "cell_type": "code",
   "source": [
    "fw.close()"
   ],
   "metadata": {
    "id": "KJScvWvEmVmD"
   },
   "execution_count": null,
   "outputs": []
  }
 ]
}
